{
 "cells": [
  {
   "cell_type": "code",
   "execution_count": 98,
   "id": "c6c4040a",
   "metadata": {},
   "outputs": [
    {
     "name": "stdout",
     "output_type": "stream",
     "text": [
      "_ _ _ _ _ _ _ \n",
      "You have 10 left\n",
      "Input char: a\n",
      "_ _ _ _ _ _ _ \n",
      "\n",
      "You have 9 left\n",
      "Input char: i\n",
      "_ _ i _ _ _ _ \n",
      "\n",
      "You have 8 left\n",
      "Input char: o\n",
      "_ _ i _ _ _ _ \n",
      "\n",
      "You have 7 left\n",
      "Input char: s\n",
      "s _ i _ _ _ _ \n",
      "\n",
      "You have 6 left\n",
      "Input char: c\n",
      "s c i _ _ c _ \n",
      "\n",
      "You have 5 left\n",
      "Input char: e\n",
      "s c i e _ c e \n",
      "\n",
      "You have 4 left\n",
      "Input char: q\n",
      "s c i e _ c e \n",
      "\n",
      "You have 3 left\n",
      "Input char: n\n",
      "s c i e n c e \n"
     ]
    }
   ],
   "source": [
    "import random\n",
    "\n",
    "words = ['father', 'enterprise', 'computer','condition','science','programming','history','discovery']\n",
    "word = random.choice(words)\n",
    "\n",
    "turns = 10\n",
    "guesses = \"\"\n",
    "for i in range(len(word)):\n",
    "    print(f\"_\", end=\" \")\n",
    "\n",
    "while turns > 0:\n",
    "    print(f\"\\nYou have {turns} left\")\n",
    "    guessed_all = True\n",
    "    \n",
    "    guess = input('Input char: ')\n",
    "    guesses = guesses + guess\n",
    "    \n",
    "    for c in word:\n",
    "        if c in guesses:\n",
    "            print(c, end=\" \")\n",
    "        else:\n",
    "            print(\"_\", end=\" \")\n",
    "            guessed_all = False\n",
    "    print()\n",
    "    if not guessed_all:\n",
    "        turns = turns - 1\n",
    "    else:\n",
    "        turns = 0"
   ]
  },
  {
   "cell_type": "code",
   "execution_count": null,
   "id": "430be8bf",
   "metadata": {},
   "outputs": [],
   "source": []
  },
  {
   "cell_type": "code",
   "execution_count": null,
   "id": "8b2bfd4f",
   "metadata": {},
   "outputs": [],
   "source": []
  },
  {
   "cell_type": "code",
   "execution_count": null,
   "id": "26c66f8d",
   "metadata": {},
   "outputs": [],
   "source": []
  }
 ],
 "metadata": {
  "kernelspec": {
   "display_name": "Python 3 (ipykernel)",
   "language": "python",
   "name": "python3"
  },
  "language_info": {
   "codemirror_mode": {
    "name": "ipython",
    "version": 3
   },
   "file_extension": ".py",
   "mimetype": "text/x-python",
   "name": "python",
   "nbconvert_exporter": "python",
   "pygments_lexer": "ipython3",
   "version": "3.10.4"
  }
 },
 "nbformat": 4,
 "nbformat_minor": 5
}
